{
 "cells": [
  {
   "cell_type": "code",
   "execution_count": 1,
   "metadata": {},
   "outputs": [],
   "source": [
    "import requests\n",
    "from bs4 import BeautifulSoup\n",
    "from time import sleep"
   ]
  },
  {
   "cell_type": "code",
   "execution_count": 92,
   "metadata": {},
   "outputs": [],
   "source": [
    "page=\"https://www.ss.lv/lv/real-estate/flats/riga/all/sell/\"\n",
    "response = requests.get(page)  # Replace with your webpage URL\n",
    "soup = BeautifulSoup(response.text, \"html.parser\")"
   ]
  },
  {
   "cell_type": "code",
   "execution_count": 93,
   "metadata": {},
   "outputs": [],
   "source": [
    "form = soup.find(\"form\", {\"id\": \"filter_frm\"})\n",
    "tables = form.find_all(\"table\")\n"
   ]
  },
  {
   "cell_type": "code",
   "execution_count": 94,
   "metadata": {},
   "outputs": [
    {
     "data": {
      "text/plain": [
       "<tr><td align=\"left\" nowrap=\"\"><h4 class=\"category\" id=\"sc_1112\"><a class=\"a_category\" href=\"/lv/real-estate/flats/riga/shampeteris-pleskodale/sell/\" id=\"ahc_1112\" title=\"Šampēteris-Pleskodāle, Sludinājumi\">Šampēteris-Pleskodāle</a></h4>\n",
       "<h4 class=\"category\" id=\"sc_1104\"><a class=\"a_category\" href=\"/lv/real-estate/flats/riga/sarkandaugava/sell/\" id=\"ahc_1104\" title=\"Sarkandaugava, Sludinājumi\">Sarkandaugava</a></h4>\n",
       "<h4 class=\"category\" id=\"sc_1119\"><a class=\"a_category\" href=\"/lv/real-estate/flats/riga/shkirotava/sell/\" id=\"ahc_1119\" title=\"Šķirotava, Sludinājumi\">Šķirotava</a></h4>\n",
       "<h4 class=\"category\" id=\"sc_1105\"><a class=\"a_category\" href=\"/lv/real-estate/flats/riga/teika/sell/\" id=\"ahc_1105\" title=\"Teika, Sludinājumi\">Teika</a></h4>\n",
       "<h4 class=\"category\" id=\"sc_1120\"><a class=\"a_category\" href=\"/lv/real-estate/flats/riga/tornjakalns/sell/\" id=\"ahc_1120\" title=\"Torņakalns, Sludinājumi\">Torņakalns</a></h4>\n",
       "<h4 class=\"category\" id=\"sc_1130\"><a class=\"a_category\" href=\"/lv/real-estate/flats/riga/vecaki/sell/\" id=\"ahc_1130\" title=\"Vecāķi, Sludinājumi\">Vecāķi</a></h4>\n",
       "<h4 class=\"category\" id=\"sc_5074\"><a class=\"a_category\" href=\"/lv/real-estate/flats/riga/vecdaugava/sell/\" id=\"ahc_5074\" title=\"Vecdaugava, Sludinājumi\">Vecdaugava</a></h4>\n",
       "<h4 class=\"category\" id=\"sc_1090\"><a class=\"a_category\" href=\"/lv/real-estate/flats/riga/vecmilgravis/sell/\" id=\"ahc_1090\" title=\"Vecmīlgrāvis, Sludinājumi\">Vecmīlgrāvis</a></h4>\n",
       "<h4 class=\"category\" id=\"sc_1091\"><a class=\"a_category\" href=\"/lv/real-estate/flats/riga/vecriga/sell/\" id=\"ahc_1091\" title=\"Vecrīga, Sludinājumi\">Vecrīga</a></h4>\n",
       "<h4 class=\"category\" id=\"sc_1115\"><a class=\"a_category\" href=\"/lv/real-estate/flats/riga/voleri/sell/\" id=\"ahc_1115\" title=\"Voleri, Sludinājumi\">Voleri</a></h4>\n",
       "<h4 class=\"category\" id=\"sc_1092\"><a class=\"a_category\" href=\"/lv/real-estate/flats/riga/zasulauks/sell/\" id=\"ahc_1092\" title=\"Zasulauks, Sludinājumi\">Zasulauks</a></h4>\n",
       "<h4 class=\"category\" id=\"sc_1093\"><a class=\"a_category\" href=\"/lv/real-estate/flats/riga/ziepniekkalns/sell/\" id=\"ahc_1093\" title=\"Ziepniekkalns, Sludinājumi\">Ziepniekkalns</a></h4>\n",
       "<h4 class=\"category\" id=\"sc_1094\"><a class=\"a_category\" href=\"/lv/real-estate/flats/riga/zolitude/sell/\" id=\"ahc_1094\" title=\"Zolitūde, Sludinājumi\">Zolitūde</a></h4>\n",
       "<h4 class=\"category\" id=\"sc_1136\"><a class=\"a_category\" href=\"/lv/real-estate/flats/riga/other/sell/\" id=\"ahc_1136\" title=\"Cits, Sludinājumi\">Cits</a></h4>\n",
       "<br/><h4 class=\"category\" id=\"sc_14195\"><a class=\"a_category\" href=\"/lv/real-estate/flats/riga/all/\" id=\"ahc_14195\">Visi sludinājumi</a></h4></td></tr>"
      ]
     },
     "execution_count": 94,
     "metadata": {},
     "output_type": "execute_result"
    }
   ],
   "source": [
    "rows=[]\n",
    "for row in tables[2].find_all(\"tr\"):\n",
    "     rows.append(row)\n",
    "rows.pop(0)\n",
    "rows.pop(len(rows)-1)\n",
    "\n"
   ]
  },
  {
   "cell_type": "code",
   "execution_count": 89,
   "metadata": {},
   "outputs": [],
   "source": [
    "def switch(x,val):\n",
    "    return {\n",
    "        'Pilsēta, rajons': val.get_text().split(\":\")[1],\n",
    "        'Pilsēta': val.get_text().split(\":\")[1],\n",
    "        'Rajons': val.get_text().split(\":\")[1],\n",
    "        'Pilsēta/pagasts': val.get_text().split(\":\")[1],\n",
    "        'Ciems':val.get_text().split(\":\")[1],\n",
    "        'Iela':val.get_text().split(\":\")[1][:-8],\n",
    "        'Istabas':val.get_text().split(\":\")[1],\n",
    "        'Platība':val.get_text().split(\":\")[1][:-3],\n",
    "        'Stāvs':val.get_text().split(\":\")[1],\n",
    "        'Sērija':val.get_text().split(\":\")[1],\n",
    "        'Mājas tips':val.get_text().split(\":\")[1],\n",
    "        'Ērtības':val.get_text().split(\":\")[1]\n",
    "    }.get(x, \"\")\n"
   ]
  },
  {
   "cell_type": "code",
   "execution_count": 90,
   "metadata": {},
   "outputs": [],
   "source": [
    "def searchCoords(x,val):\n",
    "    nosaukums=val.get_text().split(\":\")[1][:-8]\n",
    "    if x==\"Iela\":     \n",
    "        x=float(val.find(\"a\").get(\"onclick\").split(\",\")[3].split(\"=\")[3])\n",
    "        y=float(val.find(\"a\").get(\"onclick\").split(\",\")[4].replace(\" \",\"\"))\n",
    "        #print(x, y, nosaukums);\n",
    "        return(x, y)"
   ]
  },
  {
   "cell_type": "code",
   "execution_count": 95,
   "metadata": {},
   "outputs": [
    {
     "ename": "IndexError",
     "evalue": "list index out of range",
     "output_type": "error",
     "traceback": [
      "\u001b[1;31m---------------------------------------------------------------------------\u001b[0m",
      "\u001b[1;31mIndexError\u001b[0m                                Traceback (most recent call last)",
      "\u001b[1;32m<ipython-input-95-f0283c5280f1>\u001b[0m in \u001b[0;36m<module>\u001b[1;34m\u001b[0m\n\u001b[0;32m      6\u001b[0m \u001b[1;33m\u001b[0m\u001b[0m\n\u001b[0;32m      7\u001b[0m     \u001b[0mtds\u001b[0m \u001b[1;33m=\u001b[0m \u001b[0meach\u001b[0m\u001b[1;33m.\u001b[0m\u001b[0mfind_all\u001b[0m\u001b[1;33m(\u001b[0m\u001b[1;34m'td'\u001b[0m\u001b[1;33m)\u001b[0m\u001b[1;33m\u001b[0m\u001b[1;33m\u001b[0m\u001b[0m\n\u001b[1;32m----> 8\u001b[1;33m     \u001b[0murl\u001b[0m\u001b[1;33m=\u001b[0m\u001b[1;34m\"https://www.ss.lv\"\u001b[0m\u001b[1;33m+\u001b[0m\u001b[0mtds\u001b[0m\u001b[1;33m[\u001b[0m\u001b[1;36m1\u001b[0m\u001b[1;33m]\u001b[0m\u001b[1;33m.\u001b[0m\u001b[0mfind\u001b[0m\u001b[1;33m(\u001b[0m\u001b[1;34m\"a\"\u001b[0m\u001b[1;33m)\u001b[0m\u001b[1;33m.\u001b[0m\u001b[0mget\u001b[0m\u001b[1;33m(\u001b[0m\u001b[1;34m\"href\"\u001b[0m\u001b[1;33m)\u001b[0m\u001b[1;33m\u001b[0m\u001b[1;33m\u001b[0m\u001b[0m\n\u001b[0m\u001b[0;32m      9\u001b[0m     \u001b[1;31m#print(url)\u001b[0m\u001b[1;33m\u001b[0m\u001b[1;33m\u001b[0m\u001b[1;33m\u001b[0m\u001b[0m\n\u001b[0;32m     10\u001b[0m     \u001b[0mteksts\u001b[0m\u001b[1;33m=\u001b[0m\u001b[0mtds\u001b[0m\u001b[1;33m[\u001b[0m\u001b[1;36m2\u001b[0m\u001b[1;33m]\u001b[0m\u001b[1;33m.\u001b[0m\u001b[0mfind\u001b[0m\u001b[1;33m(\u001b[0m\u001b[1;34m\"a\"\u001b[0m\u001b[1;33m)\u001b[0m\u001b[1;33m.\u001b[0m\u001b[0mget_text\u001b[0m\u001b[1;33m(\u001b[0m\u001b[1;33m)\u001b[0m\u001b[1;33m\u001b[0m\u001b[1;33m\u001b[0m\u001b[0m\n",
      "\u001b[1;31mIndexError\u001b[0m: list index out of range"
     ]
    }
   ],
   "source": [
    "#rows[0]\n",
    "url=[]\n",
    "vietas=[]\n",
    "for each in rows:\n",
    "    \n",
    "    \n",
    "    tds = each.find_all('td')\n",
    "    url=\"https://www.ss.lv\"+tds[1].find(\"a\").get(\"href\")\n",
    "    #print(url)\n",
    "    teksts=tds[2].find(\"a\").get_text()\n",
    "    #print(url, teksts)\n",
    "    vieta = tds[3].get_text()\n",
    "    istabas = tds[4].get_text()\n",
    "    m2=tds[5].get_text()\n",
    "    stavs=tds[6].get_text()\n",
    "    serija=tds[7].get_text()\n",
    "    cenam2=(float(tds[8].get_text()[:-1].replace(\",\",\"\")))\n",
    "    cena=(float(tds[9].get_text()[:-1].replace(\",\",\"\")))\n",
    "\n",
    "\n",
    "    print(url)\n",
    "    \n",
    "    vieta={}\n",
    "    vieta[\"cena\"]=cena\n",
    "    vieta[\"cena par kvm\"]=cenam2\n",
    "    \n",
    "    response2 = requests.get(url) \n",
    "    soup2 = BeautifulSoup(response2.text, \"html.parser\")\n",
    "    div = soup2.find(\"div\", {\"id\": \"msg_div_msg\"})\n",
    "    trs2= div.find(\"table\").find_all(\"table\")[0].find_all(\"tr\")\n",
    "    trs3= div.find(\"table\").find_all(\"table\")[1].find_all(\"tr\")\n",
    "    \n",
    "\n",
    "    # TODO kā apvienot divus tr mainīgos vienā, lai nebūtu jāveic divi cikli, katrs savam mainīgajam?\n",
    "\n",
    "    for each in trs2:\n",
    "        vieta[each.get_text().split(\":\")[0]]=switch(each.get_text().split(\":\")[0],each)\n",
    "        if each.get_text().split(\":\")[0]==\"Iela\":\n",
    "            vieta[\"coords\"]=searchCoords(each.get_text().split(\":\")[0],each)\n",
    "\n",
    "    for each in trs3:\n",
    "        vieta[each.get_text().split(\":\")[0]]=switch(each.get_text().split(\":\")[0],each)\n",
    "        if each.get_text().split(\":\")[0]==\"Iela\":\n",
    "            vieta[\"coords\"]=searchCoords(each.get_text().split(\":\")[0],each)\n",
    "    \n",
    "    vieta[\"datums\"]=soup2.find_all(\"td\",{\"class\":\"msg_footer\"})[2].get_text()[8:]\n",
    "    vieta[\"idx\"]=tds[1].find(\"a\").get(\"href\").split(\"/\")[-1].split(\".\")[0]\n",
    "    \n",
    "    vietas.append(vieta)\n",
    "    \n",
    "    sleep(0.2)\n",
    "    \n",
    "vietas"
   ]
  },
  {
   "cell_type": "code",
   "execution_count": 97,
   "metadata": {},
   "outputs": [
    {
     "data": {
      "text/plain": [
       "[<tr><td align=\"left\" nowrap=\"\"><h4 class=\"category\" id=\"sc_1106\"><a class=\"a_category\" href=\"/lv/real-estate/flats/riga/centre/sell/\" id=\"ahc_1106\" title=\"Centrs, Sludinājumi\">Centrs</a></h4>\n",
       " <h4 class=\"category\" id=\"sc_1088\"><a class=\"a_category\" href=\"/lv/real-estate/flats/riga/agenskalns/sell/\" id=\"ahc_1088\" title=\"Āgenskalns, Sludinājumi\">Āgenskalns</a></h4>\n",
       " <h4 class=\"category\" id=\"sc_1114\"><a class=\"a_category\" href=\"/lv/real-estate/flats/riga/aplokciems/sell/\" id=\"ahc_1114\" title=\"Aplokciems, Sludinājumi\">Aplokciems</a></h4>\n",
       " <h4 class=\"category\" id=\"sc_1173\"><a class=\"a_category\" href=\"/lv/real-estate/flats/riga/bergi/sell/\" id=\"ahc_1173\" title=\"Berģi, Sludinājumi\">Berģi</a></h4>\n",
       " <h4 class=\"category\" id=\"sc_1121\"><a class=\"a_category\" href=\"/lv/real-estate/flats/riga/bierini/sell/\" id=\"ahc_1121\" title=\"Bieriņi, Sludinājumi\">Bieriņi</a></h4>\n",
       " <h4 class=\"category\" id=\"sc_1089\"><a class=\"a_category\" href=\"/lv/real-estate/flats/riga/bolderaya/sell/\" id=\"ahc_1089\" title=\"Bolderāja, Sludinājumi\">Bolderāja</a></h4>\n",
       " <h4 class=\"category\" id=\"sc_291439\"><a class=\"a_category\" href=\"/lv/real-estate/flats/riga/breksi/sell/\" id=\"ahc_291439\" title=\"Brekši, Sludinājumi\">Brekši</a></h4>\n",
       " <h4 class=\"category\" id=\"sc_1180\"><a class=\"a_category\" href=\"/lv/real-estate/flats/riga/bukulti/sell/\" id=\"ahc_1180\" title=\"Bukulti, Sludinājumi\">Bukulti</a></h4>\n",
       " <h4 class=\"category\" id=\"sc_1107\"><a class=\"a_category\" href=\"/lv/real-estate/flats/riga/chiekurkalns/sell/\" id=\"ahc_1107\" title=\"Čiekurkalns, Sludinājumi\">Čiekurkalns</a></h4>\n",
       " <h4 class=\"category\" id=\"sc_1111\"><a class=\"a_category\" href=\"/lv/real-estate/flats/riga/darzciems/sell/\" id=\"ahc_1111\" title=\"Dārzciems, Sludinājumi\">Dārzciems</a></h4>\n",
       " <h4 class=\"category\" id=\"sc_1131\"><a class=\"a_category\" href=\"/lv/real-estate/flats/riga/darzini/sell/\" id=\"ahc_1131\" title=\"Dārziņi, Sludinājumi\">Dārziņi</a></h4>\n",
       " <h4 class=\"category\" id=\"sc_1129\"><a class=\"a_category\" href=\"/lv/real-estate/flats/riga/daugavgriva/sell/\" id=\"ahc_1129\" title=\"Daugavgrīva, Sludinājumi\">Daugavgrīva</a></h4>\n",
       " <h4 class=\"category\" id=\"sc_1172\"><a class=\"a_category\" href=\"/lv/real-estate/flats/riga/dreilini/sell/\" id=\"ahc_1172\" title=\"Dreiliņi, Sludinājumi\">Dreiliņi</a></h4>\n",
       " <h4 class=\"category\" id=\"sc_1110\"><a class=\"a_category\" href=\"/lv/real-estate/flats/riga/dzeguzhkalns/sell/\" id=\"ahc_1110\" title=\"Dzegužkalns (Dzirciems), Sludinājumi\">Dzegužkalns (Dzirciems)</a></h4>\n",
       " <h4 class=\"category\" id=\"sc_291402\"><a class=\"a_category\" href=\"/lv/real-estate/flats/riga/grizinkalns/sell/\" id=\"ahc_291402\" title=\"Grīziņkalns, Sludinājumi\">Grīziņkalns</a></h4>\n",
       " <h4 class=\"category\" id=\"sc_1095\"><a class=\"a_category\" href=\"/lv/real-estate/flats/riga/ilguciems/sell/\" id=\"ahc_1095\" title=\"Iļģuciems, Sludinājumi\">Iļģuciems</a></h4>\n",
       " </td></tr>,\n",
       " <tr><td align=\"left\" nowrap=\"\"><h4 class=\"category\" id=\"sc_1096\"><a class=\"a_category\" href=\"/lv/real-estate/flats/riga/imanta/sell/\" id=\"ahc_1096\" title=\"Imanta, Sludinājumi\">Imanta</a></h4>\n",
       " <h4 class=\"category\" id=\"sc_1117\"><a class=\"a_category\" href=\"/lv/real-estate/flats/riga/jaunciems/sell/\" id=\"ahc_1117\" title=\"Jaunciems, Sludinājumi\">Jaunciems</a></h4>\n",
       " <h4 class=\"category\" id=\"sc_1108\"><a class=\"a_category\" href=\"/lv/real-estate/flats/riga/yugla/sell/\" id=\"ahc_1108\" title=\"Jugla, Sludinājumi\">Jugla</a></h4>\n",
       " <h4 class=\"category\" id=\"sc_1171\"><a class=\"a_category\" href=\"/lv/real-estate/flats/riga/katlakalns/sell/\" id=\"ahc_1171\" title=\"Katlakalns, Sludinājumi\">Katlakalns</a></h4>\n",
       " <h4 class=\"category\" id=\"sc_1097\"><a class=\"a_category\" href=\"/lv/real-estate/flats/riga/kengarags/sell/\" id=\"ahc_1097\" title=\"Ķengarags, Sludinājumi\">Ķengarags</a></h4>\n",
       " <h4 class=\"category\" id=\"sc_1124\"><a class=\"a_category\" href=\"/lv/real-estate/flats/riga/kipsala/sell/\" id=\"ahc_1124\" title=\"Ķīpsala, Sludinājumi\">Ķīpsala</a></h4>\n",
       " <h4 class=\"category\" id=\"sc_1125\"><a class=\"a_category\" href=\"/lv/real-estate/flats/riga/kleisti/sell/\" id=\"ahc_1125\" title=\"Kleisti, Sludinājumi\">Kleisti</a></h4>\n",
       " <h4 class=\"category\" id=\"sc_5067\"><a class=\"a_category\" href=\"/lv/real-estate/flats/riga/kliversala/sell/\" id=\"ahc_5067\" title=\"Klīversala, Sludinājumi\">Klīversala</a></h4>\n",
       " <h4 class=\"category\" id=\"sc_1109\"><a class=\"a_category\" href=\"/lv/real-estate/flats/riga/krasta-st-area/sell/\" id=\"ahc_1109\" title=\"Krasta r-ns, Sludinājumi\">Krasta r-ns</a></h4>\n",
       " <h4 class=\"category\" id=\"sc_1098\"><a class=\"a_category\" href=\"/lv/real-estate/flats/riga/mangali/sell/\" id=\"ahc_1098\" title=\"Mangaļi, Sludinājumi\">Mangaļi</a></h4>\n",
       " <h4 class=\"category\" id=\"sc_1135\"><a class=\"a_category\" href=\"/lv/real-estate/flats/riga/mangalsala/sell/\" id=\"ahc_1135\" title=\"Mangaļsala, Sludinājumi\">Mangaļsala</a></h4>\n",
       " <h4 class=\"category\" id=\"sc_5070\"><a class=\"a_category\" href=\"/lv/real-estate/flats/riga/maskavas-priekshpilseta/sell/\" id=\"ahc_5070\" title=\"Maskavas priekšpilsēta, Sludinājumi\">Maskavas priekšpilsēta</a></h4>\n",
       " <h4 class=\"category\" id=\"sc_1099\"><a class=\"a_category\" href=\"/lv/real-estate/flats/riga/mezhapark/sell/\" id=\"ahc_1099\" title=\"Mežaparks, Sludinājumi\">Mežaparks</a></h4>\n",
       " <h4 class=\"category\" id=\"sc_1100\"><a class=\"a_category\" href=\"/lv/real-estate/flats/riga/mezhciems/sell/\" id=\"ahc_1100\" title=\"Mežciems, Sludinājumi\">Mežciems</a></h4>\n",
       " <h4 class=\"category\" id=\"sc_1102\"><a class=\"a_category\" href=\"/lv/real-estate/flats/riga/plyavnieki/sell/\" id=\"ahc_1102\" title=\"Pļavnieki, Sludinājumi\">Pļavnieki</a></h4>\n",
       " <h4 class=\"category\" id=\"sc_1103\"><a class=\"a_category\" href=\"/lv/real-estate/flats/riga/purvciems/sell/\" id=\"ahc_1103\" title=\"Purvciems, Sludinājumi\">Purvciems</a></h4>\n",
       " </td></tr>]"
      ]
     },
     "execution_count": 97,
     "metadata": {},
     "output_type": "execute_result"
    }
   ],
   "source": [
    "rows"
   ]
  },
  {
   "cell_type": "code",
   "execution_count": null,
   "metadata": {},
   "outputs": [],
   "source": []
  }
 ],
 "metadata": {
  "kernelspec": {
   "display_name": "Python 3",
   "language": "python",
   "name": "python3"
  },
  "language_info": {
   "codemirror_mode": {
    "name": "ipython",
    "version": 3
   },
   "file_extension": ".py",
   "mimetype": "text/x-python",
   "name": "python",
   "nbconvert_exporter": "python",
   "pygments_lexer": "ipython3",
   "version": "3.8.3"
  }
 },
 "nbformat": 4,
 "nbformat_minor": 4
}
