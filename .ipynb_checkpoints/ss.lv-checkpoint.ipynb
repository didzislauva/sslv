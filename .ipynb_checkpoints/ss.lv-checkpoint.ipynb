{
 "cells": [
  {
   "cell_type": "code",
   "execution_count": null,
   "metadata": {},
   "outputs": [],
   "source": [
    "import requests\n",
    "from bs4 import BeautifulSoup\n",
    "from time import sleep"
   ]
  },
  {
   "cell_type": "code",
   "execution_count": null,
   "metadata": {},
   "outputs": [],
   "source": [
    "page=\"https://www.ss.lv/lv/real-estate/flats/jurmala/sell/\"\n",
    "response = requests.get(page)  # Replace with your webpage URL\n",
    "soup = BeautifulSoup(response.text, \"html.parser\")"
   ]
  },
  {
   "cell_type": "code",
   "execution_count": null,
   "metadata": {},
   "outputs": [],
   "source": [
    "form = soup.find(\"form\", {\"id\": \"filter_frm\"})\n",
    "tables = form.find_all(\"table\")\n"
   ]
  },
  {
   "cell_type": "code",
   "execution_count": null,
   "metadata": {},
   "outputs": [],
   "source": [
    "rows=[]\n",
    "for row in tables[2].find_all(\"tr\"):\n",
    "     rows.append(row)\n",
    "rows.pop(0)\n",
    "rows.pop(len(rows)-1)\n",
    "\n"
   ]
  },
  {
   "cell_type": "code",
   "execution_count": null,
   "metadata": {},
   "outputs": [],
   "source": [
    "def switch(x,val):\n",
    "    return {\n",
    "        'Pilsēta, rajons': val.get_text().split(\":\")[1],\n",
    "        'Pilsēta': val.get_text().split(\":\")[1],\n",
    "        'Rajons': val.get_text().split(\":\")[1],\n",
    "        'Pilsēta/pagasts': val.get_text().split(\":\")[1],\n",
    "        'Ciems':val.get_text().split(\":\")[1],\n",
    "        'Iela':val.get_text().split(\":\")[1][:-8],\n",
    "        'Istabas':val.get_text().split(\":\")[1],\n",
    "        'Platība':val.get_text().split(\":\")[1][:-3],\n",
    "        'Stāvs':val.get_text().split(\":\")[1],\n",
    "        'Sērija':val.get_text().split(\":\")[1],\n",
    "        'Mājas tips':val.get_text().split(\":\")[1],\n",
    "        'Ērtības':val.get_text().split(\":\")[1]\n",
    "    }.get(x, \"\")\n"
   ]
  },
  {
   "cell_type": "code",
   "execution_count": null,
   "metadata": {},
   "outputs": [],
   "source": [
    "def searchCoords(x,val):\n",
    "    nosaukums=val.get_text().split(\":\")[1][:-8]\n",
    "    if x==\"Iela\":     \n",
    "        x=float(val.find(\"a\").get(\"onclick\").split(\",\")[3].split(\"=\")[3])\n",
    "        y=float(val.find(\"a\").get(\"onclick\").split(\",\")[4].replace(\" \",\"\"))\n",
    "        #print(x, y, nosaukums);\n",
    "        return(x, y)"
   ]
  },
  {
   "cell_type": "code",
   "execution_count": null,
   "metadata": {},
   "outputs": [],
   "source": [
    "#rows[0]\n",
    "url=[]\n",
    "vietas=[]\n",
    "for each in rows:\n",
    "    \n",
    "    vieta={}\n",
    "\n",
    "    tds = each.find_all('td')\n",
    "    url = \"https://www.ss.lv\" + tds[1].find(\"a\").get(\"href\")\n",
    "    vieta[\"idx\"] = url.split(\"/\")[-1].split(\".\")[0]\n",
    "\n",
    "    teksts=tds[2].find(\"a\").get_text()\n",
    "\n",
    "    vieta = tds[3].get_text()\n",
    "    istabas = tds[4].get_text()\n",
    "    m2=tds[5].get_text()\n",
    "    stavs=tds[6].get_text()\n",
    "    serija=tds[7].get_text()\n",
    "\n",
    "\n",
    "\n",
    "    print(url)\n",
    "    \n",
    "    \n",
    "\n",
    "    \n",
    "    response2 = requests.get(url) \n",
    "    soup2 = BeautifulSoup(response2.text, \"html.parser\")\n",
    "    div = soup2.find(\"div\", {\"id\": \"msg_div_msg\"})\n",
    "    trs2= div.find(\"table\").find_all(\"table\")[0].find_all(\"tr\")\n",
    "    trs3= div.find(\"table\").find_all(\"table\")[1].find_all(\"tr\")\n",
    "    \n",
    "\n",
    "    # TODO kā apvienot divus tr mainīgos vienā, lai nebūtu jāveic divi cikli, katrs savam mainīgajam?\n",
    "\n",
    "    for each in trs2:\n",
    "        vieta[each.get_text().split(\":\")[0]]=switch(each.get_text().split(\":\")[0],each)\n",
    "        if each.get_text().split(\":\")[0]==\"Iela\":\n",
    "            vieta[\"coords\"]=searchCoords(each.get_text().split(\":\")[0],each)\n",
    "\n",
    "    for each in trs3:\n",
    "        vieta[each.get_text().split(\":\")[0]]=switch(each.get_text().split(\":\")[0],each)\n",
    "        if each.get_text().split(\":\")[0]==\"Iela\":\n",
    "            vieta[\"coords\"]=searchCoords(each.get_text().split(\":\")[0],each)\n",
    "    \n",
    "    vieta[\"datums\"]=soup2.find_all(\"td\",{\"class\":\"msg_footer\"})[2].get_text()[8:]\n",
    "    \n",
    "    \n",
    "    cenas=div.find_all(\"table\")[-1].find_all(\"td\")[-1].get_text().replace(\" \",\"\").replace(\")\",\"\").split(\"€(\")\n",
    "    vieta[\"cena\"]=cenas[0]\n",
    "    vieta[\"cena par kvm\"]=cenas[1][:-4]\n",
    "    \n",
    "    vietas.append(vieta)\n",
    "    \n",
    "    sleep(0.2)\n",
    "    \n",
    "vietas"
   ]
  },
  {
   "cell_type": "code",
   "execution_count": null,
   "metadata": {},
   "outputs": [],
   "source": [
    "response2 = requests.get(url) \n",
    "soup2 = BeautifulSoup(response2.text, \"html.parser\")\n",
    "div = soup2.find(\"div\", {\"id\": \"msg_div_msg\"})\n",
    "cenas=div.find_all(\"table\")[-1].find_all(\"td\")[-1].get_text().replace(\" \",\"\").replace(\")\",\"\").split(\"€(\")\n",
    "cenas"
   ]
  }
 ],
 "metadata": {
  "kernelspec": {
   "display_name": "Python 3",
   "language": "python",
   "name": "python3"
  },
  "language_info": {
   "codemirror_mode": {
    "name": "ipython",
    "version": 3
   },
   "file_extension": ".py",
   "mimetype": "text/x-python",
   "name": "python",
   "nbconvert_exporter": "python",
   "pygments_lexer": "ipython3",
   "version": "3.8.3"
  }
 },
 "nbformat": 4,
 "nbformat_minor": 4
}
